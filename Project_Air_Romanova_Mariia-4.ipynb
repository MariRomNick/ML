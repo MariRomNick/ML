{
 "cells": [
  {
   "cell_type": "markdown",
   "id": "b701e857",
   "metadata": {
    "toc": true
   },
   "source": [
    "<h1>Table of Contents<span class=\"tocSkip\"></span></h1>\n",
    "<div class=\"toc\"><ul class=\"toc-item\"><li><span><a href=\"#Построить-модель-которая-будет-выбирать-топ-3-аэропорта-прилета-(вероятность-опоздания-минимальная-–-RMSE-метрика),-в-зависимости-от-аэропорта-вылета\" data-toc-modified-id=\"Построить-модель-которая-будет-выбирать-топ-3-аэропорта-прилета-(вероятность-опоздания-минимальная-–-RMSE-метрика),-в-зависимости-от-аэропорта-вылета-1\"><span class=\"toc-item-num\">1&nbsp;&nbsp;</span>Построить модель которая будет выбирать топ 3 аэропорта прилета (вероятность опоздания минимальная – RMSE метрика), в зависимости от аэропорта вылета</a></span><ul class=\"toc-item\"><li><span><a href=\"#Подготовка-данных\" data-toc-modified-id=\"Подготовка-данных-1.1\"><span class=\"toc-item-num\">1.1&nbsp;&nbsp;</span>Подготовка данных</a></span></li><li><span><a href=\"#Выбор-параметров-и-получение-результата\" data-toc-modified-id=\"Выбор-параметров-и-получение-результата-1.2\"><span class=\"toc-item-num\">1.2&nbsp;&nbsp;</span>Выбор параметров и получение результата</a></span></li></ul></li></ul></div>"
   ]
  },
  {
   "cell_type": "markdown",
   "id": "cfe70061",
   "metadata": {},
   "source": [
    "[Данные - https://www.kaggle.com/usdot/flight-delays  ](https://www.kaggle.com/usdot/flight-delays) \n",
    "\n",
    "Описание - Сводная информация о количестве своевременных, задержанных, отмененных и измененных рейсов в США за 2015 год (5.8 млн записей)\n",
    "Задачи:\n",
    "1\tНайти аэропорт с минимальной задержкой вылета \n",
    "2\tСамая пунктуальная авиакомпания на прилет в Los Angeles International Airport\n",
    "3\tАэропорт с самой большой долей руления на 1 самолетовылет\n",
    "4\tПостроить модель которая будет выбирать топ 3 аэропорта прилета (вероятность опоздания минимальная – RMSE метрика),  в зависимости от аэропорта вылета  "
   ]
  },
  {
   "cell_type": "markdown",
   "id": "ee94ed12",
   "metadata": {},
   "source": [
    "# Построить модель которая будет выбирать топ 3 аэропорта прилета (вероятность опоздания минимальная – RMSE метрика), в зависимости от аэропорта вылета"
   ]
  },
  {
   "cell_type": "markdown",
   "id": "2c3146a9",
   "metadata": {},
   "source": [
    "## Подготовка данных "
   ]
  },
  {
   "cell_type": "code",
   "execution_count": 1,
   "id": "f7a73b20",
   "metadata": {},
   "outputs": [],
   "source": [
    "import pandas as pd\n",
    "import datetime as dt\n",
    "import numpy as np\n",
    "import random\n",
    "from sklearn.model_selection import train_test_split\n",
    "from sklearn.metrics import mean_squared_error\n",
    "from math import sqrt\n",
    "import matplotlib.pyplot as plt\n",
    "from sklearn.linear_model import LinearRegression"
   ]
  },
  {
   "cell_type": "code",
   "execution_count": 2,
   "id": "902fe3d9",
   "metadata": {},
   "outputs": [
    {
     "name": "stdout",
     "output_type": "stream",
     "text": [
      "Wall time: 8.56 s\n"
     ]
    }
   ],
   "source": [
    "%%time\n",
    "airlines= pd.read_csv('data/airlines.csv')\n",
    "airports= pd.read_csv('data/airports.csv')\n",
    "flights= pd.read_csv('data/flights.csv',dtype={'ORIGIN_AIRPORT':str,'DESTINATION_AIRPORT':str},nrows=2500000)"
   ]
  },
  {
   "cell_type": "code",
   "execution_count": 3,
   "id": "bc0e36e3",
   "metadata": {},
   "outputs": [
    {
     "name": "stdout",
     "output_type": "stream",
     "text": [
      "Wall time: 16.9 s\n"
     ]
    }
   ],
   "source": [
    "%%time\n",
    "flights1=flights.merge(airports[['IATA_CODE','AIRPORT']], how='inner', left_on='ORIGIN_AIRPORT', right_on='IATA_CODE').drop (['IATA_CODE'], axis = 1)"
   ]
  },
  {
   "cell_type": "code",
   "execution_count": 4,
   "id": "34ac9216",
   "metadata": {},
   "outputs": [
    {
     "name": "stdout",
     "output_type": "stream",
     "text": [
      "Wall time: 20.2 s\n",
      "Parser   : 331 ms\n"
     ]
    }
   ],
   "source": [
    "%%time\n",
    "flights2=flights1.merge(airports[['IATA_CODE','AIRPORT']], how='inner', left_on='DESTINATION_AIRPORT', right_on='IATA_CODE').drop (['IATA_CODE',], axis = 1)"
   ]
  },
  {
   "cell_type": "code",
   "execution_count": 5,
   "id": "982bbabb",
   "metadata": {},
   "outputs": [
    {
     "name": "stdout",
     "output_type": "stream",
     "text": [
      "Wall time: 5.8 s\n",
      "Parser   : 118 ms\n"
     ]
    }
   ],
   "source": [
    "%%time\n",
    "flights3=flights2.merge(airlines, how='inner', left_on='AIRLINE', right_on='IATA_CODE').drop (['IATA_CODE'], axis = 1)"
   ]
  },
  {
   "cell_type": "code",
   "execution_count": 6,
   "id": "3134d2f5",
   "metadata": {
    "scrolled": true
   },
   "outputs": [
    {
     "name": "stdout",
     "output_type": "stream",
     "text": [
      "Wall time: 7.55 s\n",
      "Parser   : 123 ms\n"
     ]
    }
   ],
   "source": [
    "%%time\n",
    "flights_real= flights3[~flights3.DIVERTED.isin([1])& ~flights3.CANCELLED.isin([1])].copy()"
   ]
  },
  {
   "cell_type": "code",
   "execution_count": 7,
   "id": "d9489639",
   "metadata": {},
   "outputs": [],
   "source": [
    "def make_date(df):\n",
    " return dt.date(df.YEAR,df.MONTH,df.DAY)"
   ]
  },
  {
   "cell_type": "code",
   "execution_count": 8,
   "id": "32ee9580",
   "metadata": {},
   "outputs": [
    {
     "name": "stdout",
     "output_type": "stream",
     "text": [
      "Wall time: 5min 23s\n"
     ]
    }
   ],
   "source": [
    "%%time\n",
    "flights_real['dDate']=flights_real.apply(make_date, axis=1)"
   ]
  },
  {
   "cell_type": "code",
   "execution_count": 9,
   "id": "fda40d94",
   "metadata": {},
   "outputs": [
    {
     "name": "stdout",
     "output_type": "stream",
     "text": [
      "Wall time: 11.8 s\n",
      "Compiler : 311 ms\n",
      "Parser   : 541 ms\n"
     ]
    }
   ],
   "source": [
    "%%time\n",
    "flight_grouped = flights_real.groupby(['dDate','DESTINATION_AIRPORT'])['ARRIVAL_DELAY'].sum().reset_index()\n",
    "flight_grouped['dDate'] = pd.to_datetime(flight_grouped['dDate'])"
   ]
  },
  {
   "cell_type": "code",
   "execution_count": 10,
   "id": "90ccd070",
   "metadata": {},
   "outputs": [],
   "source": [
    "def make_features(data, max_lag, rolling_mean_size):\n",
    "    data['YEAR'] =data.dDate.dt.year\n",
    "    data['MONTH'] =data.dDate.dt.month\n",
    "    data['DAY'] =data.dDate.dt.day\n",
    "    data['DAYOFWEEK'] =data.dDate.dt.dayofweek\n",
    "    data['is_weekend'] = data.DAYOFWEEK.isin([5,6])*1\n",
    "    for lag in range (1, max_lag+1):\n",
    "        data['ARRIVAL_DELAY_{}'.format(lag)] = data['ARRIVAL_DELAY'].shift(lag)     "
   ]
  },
  {
   "cell_type": "code",
   "execution_count": 11,
   "id": "bf695133",
   "metadata": {},
   "outputs": [
    {
     "name": "stdout",
     "output_type": "stream",
     "text": [
      "Error With n_samples=0, test_size=0.1 and train_size=None, the resulting train set will be empty. Adjust any of the aforementioned parameters.\n",
      "Error With n_samples=1, test_size=0.1 and train_size=None, the resulting train set will be empty. Adjust any of the aforementioned parameters.\n",
      "Error With n_samples=0, test_size=0.1 and train_size=None, the resulting train set will be empty. Adjust any of the aforementioned parameters.\n",
      "Error With n_samples=0, test_size=0.1 and train_size=None, the resulting train set will be empty. Adjust any of the aforementioned parameters.\n",
      "Wall time: 28.8 s\n",
      "Parser   : 420 ms\n"
     ]
    }
   ],
   "source": [
    "%%time\n",
    "DESTINATION = []\n",
    "for dest in flight_grouped[flight_grouped.ARRIVAL_DELAY>=0].DESTINATION_AIRPORT.unique():\n",
    "    tempo = flight_grouped[(flight_grouped.DESTINATION_AIRPORT==dest)&(flight_grouped.ARRIVAL_DELAY>=0)][['dDate','ARRIVAL_DELAY']]\n",
    "    tempo.columns = ['dDate','ARRIVAL_DELAY']\n",
    "    tempo = pd.DataFrame(tempo)\n",
    "    \n",
    "    try:\n",
    "    \n",
    "        make_features(tempo,5,2)\n",
    "        tempo.dropna(inplace=True)\n",
    "        tempo.set_index('dDate',inplace=True)\n",
    "           \n",
    "        X_train,X_test,y_train, y_test = train_test_split(tempo.drop('ARRIVAL_DELAY', axis=1),tempo.ARRIVAL_DELAY, shuffle=False, test_size=0.1)\n",
    "\n",
    "        model_lr = LinearRegression()\n",
    "        model_lr.fit(X_train,y_train)\n",
    "\n",
    "        y_predicted_lr = model_lr.predict(X_test)\n",
    "\n",
    "        DESTINATION.append([dest,y_test.mean(),np.sqrt(mean_squared_error(y_test, y_predicted_lr))])\n",
    "\n",
    "    except Exception as e:\n",
    "        print('Error', str(e))"
   ]
  },
  {
   "cell_type": "code",
   "execution_count": 12,
   "id": "46b79634",
   "metadata": {},
   "outputs": [
    {
     "name": "stdout",
     "output_type": "stream",
     "text": [
      "Wall time: 132 ms\n"
     ]
    }
   ],
   "source": [
    "%%time\n",
    "DESTINATION = pd.DataFrame(DESTINATION)\n",
    "DESTINATION.columns = ['DESTINATION_AIRPORT','MEAN_ARRIVAL_DELAY_IN_PAST','RMSE']"
   ]
  },
  {
   "cell_type": "code",
   "execution_count": 13,
   "id": "318f0ea5",
   "metadata": {},
   "outputs": [
    {
     "data": {
      "text/html": [
       "<div>\n",
       "<style scoped>\n",
       "    .dataframe tbody tr th:only-of-type {\n",
       "        vertical-align: middle;\n",
       "    }\n",
       "\n",
       "    .dataframe tbody tr th {\n",
       "        vertical-align: top;\n",
       "    }\n",
       "\n",
       "    .dataframe thead th {\n",
       "        text-align: right;\n",
       "    }\n",
       "</style>\n",
       "<table border=\"1\" class=\"dataframe\">\n",
       "  <thead>\n",
       "    <tr style=\"text-align: right;\">\n",
       "      <th></th>\n",
       "      <th>DESTINATION_AIRPORT</th>\n",
       "      <th>MEAN_ARRIVAL_DELAY_IN_PAST</th>\n",
       "      <th>RMSE</th>\n",
       "    </tr>\n",
       "  </thead>\n",
       "  <tbody>\n",
       "    <tr>\n",
       "      <th>0</th>\n",
       "      <td>ABQ</td>\n",
       "      <td>412.166667</td>\n",
       "      <td>273.292489</td>\n",
       "    </tr>\n",
       "    <tr>\n",
       "      <th>1</th>\n",
       "      <td>ACT</td>\n",
       "      <td>120.400000</td>\n",
       "      <td>113.634538</td>\n",
       "    </tr>\n",
       "    <tr>\n",
       "      <th>2</th>\n",
       "      <td>ACV</td>\n",
       "      <td>76.875000</td>\n",
       "      <td>61.212240</td>\n",
       "    </tr>\n",
       "    <tr>\n",
       "      <th>3</th>\n",
       "      <td>ACY</td>\n",
       "      <td>285.363636</td>\n",
       "      <td>248.995702</td>\n",
       "    </tr>\n",
       "    <tr>\n",
       "      <th>4</th>\n",
       "      <td>AEX</td>\n",
       "      <td>111.100000</td>\n",
       "      <td>86.982153</td>\n",
       "    </tr>\n",
       "  </tbody>\n",
       "</table>\n",
       "</div>"
      ],
      "text/plain": [
       "  DESTINATION_AIRPORT  MEAN_ARRIVAL_DELAY_IN_PAST        RMSE\n",
       "0                 ABQ                  412.166667  273.292489\n",
       "1                 ACT                  120.400000  113.634538\n",
       "2                 ACV                   76.875000   61.212240\n",
       "3                 ACY                  285.363636  248.995702\n",
       "4                 AEX                  111.100000   86.982153"
      ]
     },
     "execution_count": 13,
     "metadata": {},
     "output_type": "execute_result"
    }
   ],
   "source": [
    "DESTINATION.head()"
   ]
  },
  {
   "cell_type": "markdown",
   "id": "7f0bdc8d",
   "metadata": {},
   "source": [
    "## Выбор параметров и получение результата"
   ]
  },
  {
   "cell_type": "code",
   "execution_count": 44,
   "id": "83de5c6c",
   "metadata": {},
   "outputs": [
    {
     "name": "stdout",
     "output_type": "stream",
     "text": [
      "3 лучших аэропорта прилета для аэропорта вылета MSP\n",
      "\n",
      "    DESTINATION_AIRPORT  MEAN_ARRIVAL_DELAY_IN_PAST       RMSE\n",
      "103                 ABR                   17.666667   5.883368\n",
      "100                 IMT                   30.666667  19.978529\n",
      "70                  FCA                   42.666667  25.653165\n",
      "Wall time: 490 ms\n"
     ]
    }
   ],
   "source": [
    "%%time\n",
    "start_airport = np.random.choice(flights_real['ORIGIN_AIRPORT'].unique()) \n",
    "where_to_go_from_start_airport = flights_real[flights_real.ORIGIN_AIRPORT==start_airport]['DESTINATION_AIRPORT'].unique()\n",
    "\n",
    "where_to_go_from_start_airport = pd.DataFrame(where_to_go_from_start_airport)\n",
    "where_to_go_from_start_airport.columns = ['DESTINATION_AIRPORT']\n",
    "\n",
    "top3 = where_to_go_from_start_airport\\\n",
    "    .merge(DESTINATION,on='DESTINATION_AIRPORT',how='inner')\\\n",
    "    .sort_values(by=['RMSE','MEAN_ARRIVAL_DELAY_IN_PAST'],ascending=[True, True])\\\n",
    "    .head(3)\n",
    "\n",
    "print('3 лучших аэропорта прилета для аэропорта вылета',start_airport)\n",
    "print('')\n",
    "print(top3)"
   ]
  }
 ],
 "metadata": {
  "kernelspec": {
   "display_name": "Python 3",
   "language": "python",
   "name": "python3"
  },
  "language_info": {
   "codemirror_mode": {
    "name": "ipython",
    "version": 3
   },
   "file_extension": ".py",
   "mimetype": "text/x-python",
   "name": "python",
   "nbconvert_exporter": "python",
   "pygments_lexer": "ipython3",
   "version": "3.8.8"
  },
  "toc": {
   "base_numbering": 1,
   "nav_menu": {},
   "number_sections": true,
   "sideBar": true,
   "skip_h1_title": false,
   "title_cell": "Table of Contents",
   "title_sidebar": "Contents",
   "toc_cell": true,
   "toc_position": {},
   "toc_section_display": true,
   "toc_window_display": true
  }
 },
 "nbformat": 4,
 "nbformat_minor": 5
}
