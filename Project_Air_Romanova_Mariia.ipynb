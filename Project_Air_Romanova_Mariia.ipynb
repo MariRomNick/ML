{
 "cells": [
  {
   "cell_type": "markdown",
   "id": "b701e857",
   "metadata": {
    "toc": true
   },
   "source": [
    "<h1>Table of Contents<span class=\"tocSkip\"></span></h1>\n",
    "<div class=\"toc\"><ul class=\"toc-item\"><li><span><a href=\"#Найти-аэропорт-с-минимальной-задержкой-вылета\" data-toc-modified-id=\"Найти-аэропорт-с-минимальной-задержкой-вылета-1\"><span class=\"toc-item-num\">1&nbsp;&nbsp;</span>Найти аэропорт с минимальной задержкой вылета</a></span></li><li><span><a href=\"#Самая-пунктуальная-авиакомпания-на-прилет-в-Los-Angeles-International-Airport\" data-toc-modified-id=\"Самая-пунктуальная-авиакомпания-на-прилет-в-Los-Angeles-International-Airport-2\"><span class=\"toc-item-num\">2&nbsp;&nbsp;</span>Самая пунктуальная авиакомпания на прилет в Los Angeles International Airport</a></span></li><li><span><a href=\"#Аэропорт-с-самой-большой-долей-руления-на-1-самолетовылет\" data-toc-modified-id=\"Аэропорт-с-самой-большой-долей-руления-на-1-самолетовылет-3\"><span class=\"toc-item-num\">3&nbsp;&nbsp;</span>Аэропорт с самой большой долей руления на 1 самолетовылет</a></span></li><li><span><a href=\"#Построить-модель-которая-будет-выбирать-топ-3-аэропорта-прилета-(вероятность-опоздания-минимальная-–-RMSE-метрика),-в-зависимости-от-аэропорта-вылета\" data-toc-modified-id=\"Построить-модель-которая-будет-выбирать-топ-3-аэропорта-прилета-(вероятность-опоздания-минимальная-–-RMSE-метрика),-в-зависимости-от-аэропорта-вылета-4\"><span class=\"toc-item-num\">4&nbsp;&nbsp;</span>Построить модель которая будет выбирать топ 3 аэропорта прилета (вероятность опоздания минимальная – RMSE метрика), в зависимости от аэропорта вылета</a></span><ul class=\"toc-item\"><li><span><a href=\"#Подготовка-данных\" data-toc-modified-id=\"Подготовка-данных-4.1\"><span class=\"toc-item-num\">4.1&nbsp;&nbsp;</span>Подготовка данных</a></span></li><li><span><a href=\"#Выбор-параметров-и-получение-результата\" data-toc-modified-id=\"Выбор-параметров-и-получение-результата-4.2\"><span class=\"toc-item-num\">4.2&nbsp;&nbsp;</span>Выбор параметров и получение результата</a></span></li></ul></li></ul></div>"
   ]
  },
  {
   "cell_type": "markdown",
   "id": "cfe70061",
   "metadata": {},
   "source": [
    "[Данные - https://www.kaggle.com/usdot/flight-delays  ](https://www.kaggle.com/usdot/flight-delays) \n",
    "\n",
    "Описание - Сводная информация о количестве своевременных, задержанных, отмененных и измененных рейсов в США за 2015 год (5.8 млн записей)\n",
    "Задачи:\n",
    "1\tНайти аэропорт с минимальной задержкой вылета \n",
    "2\tСамая пунктуальная авиакомпания на прилет в Los Angeles International Airport\n",
    "3\tАэропорт с самой большой долей руления на 1 самолетовылет\n",
    "4\tПостроить модель которая будет выбирать топ 3 аэропорта прилета (вероятность опоздания минимальная – RMSE метрика),  в зависимости от аэропорта вылета  "
   ]
  },
  {
   "cell_type": "code",
   "execution_count": 1,
   "id": "78ae426c",
   "metadata": {},
   "outputs": [],
   "source": [
    "import pandas as pd\n",
    "import datetime as dt\n",
    "import numpy as np\n",
    "import random\n",
    "from sklearn.model_selection import train_test_split\n",
    "from sklearn.metrics import mean_squared_error\n",
    "from math import sqrt\n",
    "import matplotlib.pyplot as plt\n",
    "from sklearn.linear_model import LinearRegression"
   ]
  },
  {
   "cell_type": "code",
   "execution_count": 2,
   "id": "21086a8d",
   "metadata": {},
   "outputs": [
    {
     "name": "stdout",
     "output_type": "stream",
     "text": [
      "Wall time: 22.5 s\n"
     ]
    }
   ],
   "source": [
    "%%time\n",
    "airlines= pd.read_csv('data/airlines.csv')\n",
    "airports= pd.read_csv('data/airports.csv')\n",
    "flights= pd.read_csv('data/flights.csv',dtype={'ORIGIN_AIRPORT':str,'DESTINATION_AIRPORT':str})"
   ]
  },
  {
   "cell_type": "code",
   "execution_count": 3,
   "id": "787b776a",
   "metadata": {},
   "outputs": [
    {
     "name": "stdout",
     "output_type": "stream",
     "text": [
      "Wall time: 2min 39s\n"
     ]
    }
   ],
   "source": [
    "%%time\n",
    "flights1=flights.merge(airports[['IATA_CODE','AIRPORT']], how='inner', left_on='ORIGIN_AIRPORT', right_on='IATA_CODE').drop (['IATA_CODE'], axis = 1)"
   ]
  },
  {
   "cell_type": "code",
   "execution_count": 4,
   "id": "e47fe2d4",
   "metadata": {},
   "outputs": [
    {
     "name": "stdout",
     "output_type": "stream",
     "text": [
      "Wall time: 18min 3s\n",
      "Compiler : 586 ms\n",
      "Parser   : 762 ms\n"
     ]
    }
   ],
   "source": [
    "%%time\n",
    "flights2=flights1.merge(airports[['IATA_CODE','AIRPORT']], how='inner', left_on='DESTINATION_AIRPORT', right_on='IATA_CODE').drop (['IATA_CODE',], axis = 1)"
   ]
  },
  {
   "cell_type": "code",
   "execution_count": 5,
   "id": "00844f45",
   "metadata": {},
   "outputs": [
    {
     "name": "stdout",
     "output_type": "stream",
     "text": [
      "Wall time: 6min 16s\n",
      "Compiler : 1.89 s\n",
      "Parser   : 1.1 s\n"
     ]
    }
   ],
   "source": [
    "%%time\n",
    "flights3=flights2.merge(airlines, how='inner', left_on='AIRLINE', right_on='IATA_CODE').drop (['IATA_CODE'], axis = 1)"
   ]
  },
  {
   "cell_type": "code",
   "execution_count": 6,
   "id": "77dd5c87",
   "metadata": {},
   "outputs": [
    {
     "name": "stdout",
     "output_type": "stream",
     "text": [
      "Wall time: 4min 52s\n",
      "Compiler : 484 ms\n",
      "Parser   : 2.85 s\n"
     ]
    }
   ],
   "source": [
    "%%time\n",
    "flights_real= flights3[~flights3.DIVERTED.isin([1])& ~flights3.CANCELLED.isin([1])].copy()"
   ]
  },
  {
   "cell_type": "code",
   "execution_count": 7,
   "id": "8632db0c",
   "metadata": {
    "scrolled": false
   },
   "outputs": [
    {
     "name": "stdout",
     "output_type": "stream",
     "text": [
      "<class 'pandas.core.frame.DataFrame'>\n",
      "Int64Index: 5231130 entries, 0 to 5332913\n",
      "Data columns (total 34 columns):\n",
      " #   Column               Dtype  \n",
      "---  ------               -----  \n",
      " 0   YEAR                 int64  \n",
      " 1   MONTH                int64  \n",
      " 2   DAY                  int64  \n",
      " 3   DAY_OF_WEEK          int64  \n",
      " 4   AIRLINE_x            object \n",
      " 5   FLIGHT_NUMBER        int64  \n",
      " 6   TAIL_NUMBER          object \n",
      " 7   ORIGIN_AIRPORT       object \n",
      " 8   DESTINATION_AIRPORT  object \n",
      " 9   SCHEDULED_DEPARTURE  int64  \n",
      " 10  DEPARTURE_TIME       float64\n",
      " 11  DEPARTURE_DELAY      float64\n",
      " 12  TAXI_OUT             float64\n",
      " 13  WHEELS_OFF           float64\n",
      " 14  SCHEDULED_TIME       float64\n",
      " 15  ELAPSED_TIME         float64\n",
      " 16  AIR_TIME             float64\n",
      " 17  DISTANCE             int64  \n",
      " 18  WHEELS_ON            float64\n",
      " 19  TAXI_IN              float64\n",
      " 20  SCHEDULED_ARRIVAL    int64  \n",
      " 21  ARRIVAL_TIME         float64\n",
      " 22  ARRIVAL_DELAY        float64\n",
      " 23  DIVERTED             int64  \n",
      " 24  CANCELLED            int64  \n",
      " 25  CANCELLATION_REASON  object \n",
      " 26  AIR_SYSTEM_DELAY     float64\n",
      " 27  SECURITY_DELAY       float64\n",
      " 28  AIRLINE_DELAY        float64\n",
      " 29  LATE_AIRCRAFT_DELAY  float64\n",
      " 30  WEATHER_DELAY        float64\n",
      " 31  AIRPORT_x            object \n",
      " 32  AIRPORT_y            object \n",
      " 33  AIRLINE_y            object \n",
      "dtypes: float64(16), int64(10), object(8)\n",
      "memory usage: 1.4+ GB\n"
     ]
    }
   ],
   "source": [
    "flights_real.info()"
   ]
  },
  {
   "cell_type": "code",
   "execution_count": 8,
   "id": "8523fae2",
   "metadata": {
    "scrolled": true
   },
   "outputs": [
    {
     "data": {
      "text/plain": [
       "YEAR                      1\n",
       "MONTH                    11\n",
       "DAY                      31\n",
       "DAY_OF_WEEK               7\n",
       "AIRLINE_x                14\n",
       "FLIGHT_NUMBER          6946\n",
       "TAIL_NUMBER            4895\n",
       "ORIGIN_AIRPORT          322\n",
       "DESTINATION_AIRPORT     322\n",
       "SCHEDULED_DEPARTURE    1317\n",
       "DEPARTURE_TIME         1440\n",
       "DEPARTURE_DELAY        1193\n",
       "TAXI_OUT                184\n",
       "WHEELS_OFF             1440\n",
       "SCHEDULED_TIME          543\n",
       "ELAPSED_TIME            711\n",
       "AIR_TIME                675\n",
       "DISTANCE               1350\n",
       "WHEELS_ON              1440\n",
       "TAXI_IN                 184\n",
       "SCHEDULED_ARRIVAL      1433\n",
       "ARRIVAL_TIME           1440\n",
       "ARRIVAL_DELAY          1222\n",
       "DIVERTED                  1\n",
       "CANCELLED                 1\n",
       "CANCELLATION_REASON       0\n",
       "AIR_SYSTEM_DELAY        563\n",
       "SECURITY_DELAY          154\n",
       "AIRLINE_DELAY          1042\n",
       "LATE_AIRCRAFT_DELAY     690\n",
       "WEATHER_DELAY           623\n",
       "AIRPORT_x               322\n",
       "AIRPORT_y               322\n",
       "AIRLINE_y                14\n",
       "dtype: int64"
      ]
     },
     "execution_count": 8,
     "metadata": {},
     "output_type": "execute_result"
    }
   ],
   "source": [
    "flights_real.nunique()"
   ]
  },
  {
   "cell_type": "code",
   "execution_count": 9,
   "id": "60d3a3f0",
   "metadata": {
    "scrolled": true
   },
   "outputs": [
    {
     "data": {
      "text/html": [
       "<div>\n",
       "<style scoped>\n",
       "    .dataframe tbody tr th:only-of-type {\n",
       "        vertical-align: middle;\n",
       "    }\n",
       "\n",
       "    .dataframe tbody tr th {\n",
       "        vertical-align: top;\n",
       "    }\n",
       "\n",
       "    .dataframe thead th {\n",
       "        text-align: right;\n",
       "    }\n",
       "</style>\n",
       "<table border=\"1\" class=\"dataframe\">\n",
       "  <thead>\n",
       "    <tr style=\"text-align: right;\">\n",
       "      <th></th>\n",
       "      <th>YEAR</th>\n",
       "      <th>MONTH</th>\n",
       "      <th>DAY</th>\n",
       "      <th>DAY_OF_WEEK</th>\n",
       "      <th>FLIGHT_NUMBER</th>\n",
       "      <th>SCHEDULED_DEPARTURE</th>\n",
       "      <th>DEPARTURE_TIME</th>\n",
       "      <th>DEPARTURE_DELAY</th>\n",
       "      <th>TAXI_OUT</th>\n",
       "      <th>WHEELS_OFF</th>\n",
       "      <th>...</th>\n",
       "      <th>SCHEDULED_ARRIVAL</th>\n",
       "      <th>ARRIVAL_TIME</th>\n",
       "      <th>ARRIVAL_DELAY</th>\n",
       "      <th>DIVERTED</th>\n",
       "      <th>CANCELLED</th>\n",
       "      <th>AIR_SYSTEM_DELAY</th>\n",
       "      <th>SECURITY_DELAY</th>\n",
       "      <th>AIRLINE_DELAY</th>\n",
       "      <th>LATE_AIRCRAFT_DELAY</th>\n",
       "      <th>WEATHER_DELAY</th>\n",
       "    </tr>\n",
       "  </thead>\n",
       "  <tbody>\n",
       "    <tr>\n",
       "      <th>count</th>\n",
       "      <td>5231130.0</td>\n",
       "      <td>5.231130e+06</td>\n",
       "      <td>5.231130e+06</td>\n",
       "      <td>5.231130e+06</td>\n",
       "      <td>5.231130e+06</td>\n",
       "      <td>5.231130e+06</td>\n",
       "      <td>5.231130e+06</td>\n",
       "      <td>5.231130e+06</td>\n",
       "      <td>5.231130e+06</td>\n",
       "      <td>5.231130e+06</td>\n",
       "      <td>...</td>\n",
       "      <td>5.231130e+06</td>\n",
       "      <td>5.231130e+06</td>\n",
       "      <td>5.231130e+06</td>\n",
       "      <td>5231130.0</td>\n",
       "      <td>5231130.0</td>\n",
       "      <td>1.003360e+06</td>\n",
       "      <td>1.003360e+06</td>\n",
       "      <td>1.003360e+06</td>\n",
       "      <td>1.003360e+06</td>\n",
       "      <td>1.003360e+06</td>\n",
       "    </tr>\n",
       "    <tr>\n",
       "      <th>mean</th>\n",
       "      <td>2015.0</td>\n",
       "      <td>6.229132e+00</td>\n",
       "      <td>1.569439e+01</td>\n",
       "      <td>3.925630e+00</td>\n",
       "      <td>2.169160e+03</td>\n",
       "      <td>1.329393e+03</td>\n",
       "      <td>1.335922e+03</td>\n",
       "      <td>9.696480e+00</td>\n",
       "      <td>1.609652e+01</td>\n",
       "      <td>1.357846e+03</td>\n",
       "      <td>...</td>\n",
       "      <td>1.493095e+03</td>\n",
       "      <td>1.475775e+03</td>\n",
       "      <td>4.885903e+00</td>\n",
       "      <td>0.0</td>\n",
       "      <td>0.0</td>\n",
       "      <td>1.348775e+01</td>\n",
       "      <td>7.768398e-02</td>\n",
       "      <td>1.890343e+01</td>\n",
       "      <td>2.368808e+01</td>\n",
       "      <td>2.980992e+00</td>\n",
       "    </tr>\n",
       "    <tr>\n",
       "      <th>std</th>\n",
       "      <td>0.0</td>\n",
       "      <td>3.377319e+00</td>\n",
       "      <td>8.765630e+00</td>\n",
       "      <td>1.990390e+00</td>\n",
       "      <td>1.758034e+03</td>\n",
       "      <td>4.840959e+02</td>\n",
       "      <td>4.974161e+02</td>\n",
       "      <td>3.739591e+01</td>\n",
       "      <td>8.977498e+00</td>\n",
       "      <td>4.990690e+02</td>\n",
       "      <td>...</td>\n",
       "      <td>5.076731e+02</td>\n",
       "      <td>5.276051e+02</td>\n",
       "      <td>3.978728e+01</td>\n",
       "      <td>0.0</td>\n",
       "      <td>0.0</td>\n",
       "      <td>2.807241e+01</td>\n",
       "      <td>2.180048e+00</td>\n",
       "      <td>4.787141e+01</td>\n",
       "      <td>4.332698e+01</td>\n",
       "      <td>2.062003e+01</td>\n",
       "    </tr>\n",
       "    <tr>\n",
       "      <th>min</th>\n",
       "      <td>2015.0</td>\n",
       "      <td>1.000000e+00</td>\n",
       "      <td>1.000000e+00</td>\n",
       "      <td>1.000000e+00</td>\n",
       "      <td>1.000000e+00</td>\n",
       "      <td>1.000000e+00</td>\n",
       "      <td>1.000000e+00</td>\n",
       "      <td>-8.200000e+01</td>\n",
       "      <td>1.000000e+00</td>\n",
       "      <td>1.000000e+00</td>\n",
       "      <td>...</td>\n",
       "      <td>1.000000e+00</td>\n",
       "      <td>1.000000e+00</td>\n",
       "      <td>-8.700000e+01</td>\n",
       "      <td>0.0</td>\n",
       "      <td>0.0</td>\n",
       "      <td>0.000000e+00</td>\n",
       "      <td>0.000000e+00</td>\n",
       "      <td>0.000000e+00</td>\n",
       "      <td>0.000000e+00</td>\n",
       "      <td>0.000000e+00</td>\n",
       "    </tr>\n",
       "    <tr>\n",
       "      <th>25%</th>\n",
       "      <td>2015.0</td>\n",
       "      <td>3.000000e+00</td>\n",
       "      <td>8.000000e+00</td>\n",
       "      <td>2.000000e+00</td>\n",
       "      <td>7.290000e+02</td>\n",
       "      <td>9.160000e+02</td>\n",
       "      <td>9.210000e+02</td>\n",
       "      <td>-5.000000e+00</td>\n",
       "      <td>1.100000e+01</td>\n",
       "      <td>9.350000e+02</td>\n",
       "      <td>...</td>\n",
       "      <td>1.110000e+03</td>\n",
       "      <td>1.058000e+03</td>\n",
       "      <td>-1.300000e+01</td>\n",
       "      <td>0.0</td>\n",
       "      <td>0.0</td>\n",
       "      <td>0.000000e+00</td>\n",
       "      <td>0.000000e+00</td>\n",
       "      <td>0.000000e+00</td>\n",
       "      <td>0.000000e+00</td>\n",
       "      <td>0.000000e+00</td>\n",
       "    </tr>\n",
       "    <tr>\n",
       "      <th>50%</th>\n",
       "      <td>2015.0</td>\n",
       "      <td>6.000000e+00</td>\n",
       "      <td>1.600000e+01</td>\n",
       "      <td>4.000000e+00</td>\n",
       "      <td>1.681000e+03</td>\n",
       "      <td>1.325000e+03</td>\n",
       "      <td>1.331000e+03</td>\n",
       "      <td>-1.000000e+00</td>\n",
       "      <td>1.400000e+01</td>\n",
       "      <td>1.343000e+03</td>\n",
       "      <td>...</td>\n",
       "      <td>1.520000e+03</td>\n",
       "      <td>1.512000e+03</td>\n",
       "      <td>-5.000000e+00</td>\n",
       "      <td>0.0</td>\n",
       "      <td>0.0</td>\n",
       "      <td>2.000000e+00</td>\n",
       "      <td>0.000000e+00</td>\n",
       "      <td>2.000000e+00</td>\n",
       "      <td>4.000000e+00</td>\n",
       "      <td>0.000000e+00</td>\n",
       "    </tr>\n",
       "    <tr>\n",
       "      <th>75%</th>\n",
       "      <td>2015.0</td>\n",
       "      <td>9.000000e+00</td>\n",
       "      <td>2.300000e+01</td>\n",
       "      <td>6.000000e+00</td>\n",
       "      <td>3.229000e+03</td>\n",
       "      <td>1.730000e+03</td>\n",
       "      <td>1.741000e+03</td>\n",
       "      <td>8.000000e+00</td>\n",
       "      <td>1.900000e+01</td>\n",
       "      <td>1.755000e+03</td>\n",
       "      <td>...</td>\n",
       "      <td>1.918000e+03</td>\n",
       "      <td>1.917000e+03</td>\n",
       "      <td>8.000000e+00</td>\n",
       "      <td>0.0</td>\n",
       "      <td>0.0</td>\n",
       "      <td>1.800000e+01</td>\n",
       "      <td>0.000000e+00</td>\n",
       "      <td>1.900000e+01</td>\n",
       "      <td>3.000000e+01</td>\n",
       "      <td>0.000000e+00</td>\n",
       "    </tr>\n",
       "    <tr>\n",
       "      <th>max</th>\n",
       "      <td>2015.0</td>\n",
       "      <td>1.200000e+01</td>\n",
       "      <td>3.100000e+01</td>\n",
       "      <td>7.000000e+00</td>\n",
       "      <td>9.320000e+03</td>\n",
       "      <td>2.359000e+03</td>\n",
       "      <td>2.400000e+03</td>\n",
       "      <td>1.988000e+03</td>\n",
       "      <td>2.250000e+02</td>\n",
       "      <td>2.400000e+03</td>\n",
       "      <td>...</td>\n",
       "      <td>2.400000e+03</td>\n",
       "      <td>2.400000e+03</td>\n",
       "      <td>1.971000e+03</td>\n",
       "      <td>0.0</td>\n",
       "      <td>0.0</td>\n",
       "      <td>1.134000e+03</td>\n",
       "      <td>5.730000e+02</td>\n",
       "      <td>1.971000e+03</td>\n",
       "      <td>1.331000e+03</td>\n",
       "      <td>1.211000e+03</td>\n",
       "    </tr>\n",
       "  </tbody>\n",
       "</table>\n",
       "<p>8 rows × 26 columns</p>\n",
       "</div>"
      ],
      "text/plain": [
       "            YEAR         MONTH           DAY   DAY_OF_WEEK  FLIGHT_NUMBER  \\\n",
       "count  5231130.0  5.231130e+06  5.231130e+06  5.231130e+06   5.231130e+06   \n",
       "mean      2015.0  6.229132e+00  1.569439e+01  3.925630e+00   2.169160e+03   \n",
       "std          0.0  3.377319e+00  8.765630e+00  1.990390e+00   1.758034e+03   \n",
       "min       2015.0  1.000000e+00  1.000000e+00  1.000000e+00   1.000000e+00   \n",
       "25%       2015.0  3.000000e+00  8.000000e+00  2.000000e+00   7.290000e+02   \n",
       "50%       2015.0  6.000000e+00  1.600000e+01  4.000000e+00   1.681000e+03   \n",
       "75%       2015.0  9.000000e+00  2.300000e+01  6.000000e+00   3.229000e+03   \n",
       "max       2015.0  1.200000e+01  3.100000e+01  7.000000e+00   9.320000e+03   \n",
       "\n",
       "       SCHEDULED_DEPARTURE  DEPARTURE_TIME  DEPARTURE_DELAY      TAXI_OUT  \\\n",
       "count         5.231130e+06    5.231130e+06     5.231130e+06  5.231130e+06   \n",
       "mean          1.329393e+03    1.335922e+03     9.696480e+00  1.609652e+01   \n",
       "std           4.840959e+02    4.974161e+02     3.739591e+01  8.977498e+00   \n",
       "min           1.000000e+00    1.000000e+00    -8.200000e+01  1.000000e+00   \n",
       "25%           9.160000e+02    9.210000e+02    -5.000000e+00  1.100000e+01   \n",
       "50%           1.325000e+03    1.331000e+03    -1.000000e+00  1.400000e+01   \n",
       "75%           1.730000e+03    1.741000e+03     8.000000e+00  1.900000e+01   \n",
       "max           2.359000e+03    2.400000e+03     1.988000e+03  2.250000e+02   \n",
       "\n",
       "         WHEELS_OFF  ...  SCHEDULED_ARRIVAL  ARRIVAL_TIME  ARRIVAL_DELAY  \\\n",
       "count  5.231130e+06  ...       5.231130e+06  5.231130e+06   5.231130e+06   \n",
       "mean   1.357846e+03  ...       1.493095e+03  1.475775e+03   4.885903e+00   \n",
       "std    4.990690e+02  ...       5.076731e+02  5.276051e+02   3.978728e+01   \n",
       "min    1.000000e+00  ...       1.000000e+00  1.000000e+00  -8.700000e+01   \n",
       "25%    9.350000e+02  ...       1.110000e+03  1.058000e+03  -1.300000e+01   \n",
       "50%    1.343000e+03  ...       1.520000e+03  1.512000e+03  -5.000000e+00   \n",
       "75%    1.755000e+03  ...       1.918000e+03  1.917000e+03   8.000000e+00   \n",
       "max    2.400000e+03  ...       2.400000e+03  2.400000e+03   1.971000e+03   \n",
       "\n",
       "        DIVERTED  CANCELLED  AIR_SYSTEM_DELAY  SECURITY_DELAY  AIRLINE_DELAY  \\\n",
       "count  5231130.0  5231130.0      1.003360e+06    1.003360e+06   1.003360e+06   \n",
       "mean         0.0        0.0      1.348775e+01    7.768398e-02   1.890343e+01   \n",
       "std          0.0        0.0      2.807241e+01    2.180048e+00   4.787141e+01   \n",
       "min          0.0        0.0      0.000000e+00    0.000000e+00   0.000000e+00   \n",
       "25%          0.0        0.0      0.000000e+00    0.000000e+00   0.000000e+00   \n",
       "50%          0.0        0.0      2.000000e+00    0.000000e+00   2.000000e+00   \n",
       "75%          0.0        0.0      1.800000e+01    0.000000e+00   1.900000e+01   \n",
       "max          0.0        0.0      1.134000e+03    5.730000e+02   1.971000e+03   \n",
       "\n",
       "       LATE_AIRCRAFT_DELAY  WEATHER_DELAY  \n",
       "count         1.003360e+06   1.003360e+06  \n",
       "mean          2.368808e+01   2.980992e+00  \n",
       "std           4.332698e+01   2.062003e+01  \n",
       "min           0.000000e+00   0.000000e+00  \n",
       "25%           0.000000e+00   0.000000e+00  \n",
       "50%           4.000000e+00   0.000000e+00  \n",
       "75%           3.000000e+01   0.000000e+00  \n",
       "max           1.331000e+03   1.211000e+03  \n",
       "\n",
       "[8 rows x 26 columns]"
      ]
     },
     "execution_count": 9,
     "metadata": {},
     "output_type": "execute_result"
    }
   ],
   "source": [
    "flights_real.describe()"
   ]
  },
  {
   "cell_type": "code",
   "execution_count": 10,
   "id": "004eb974",
   "metadata": {},
   "outputs": [
    {
     "data": {
      "text/plain": [
       "YEAR                         0\n",
       "MONTH                        0\n",
       "DAY                          0\n",
       "DAY_OF_WEEK                  0\n",
       "AIRLINE_x                    0\n",
       "FLIGHT_NUMBER                0\n",
       "TAIL_NUMBER                  0\n",
       "ORIGIN_AIRPORT               0\n",
       "DESTINATION_AIRPORT          0\n",
       "SCHEDULED_DEPARTURE          0\n",
       "DEPARTURE_TIME               0\n",
       "DEPARTURE_DELAY              0\n",
       "TAXI_OUT                     0\n",
       "WHEELS_OFF                   0\n",
       "SCHEDULED_TIME               0\n",
       "ELAPSED_TIME                 0\n",
       "AIR_TIME                     0\n",
       "DISTANCE                     0\n",
       "WHEELS_ON                    0\n",
       "TAXI_IN                      0\n",
       "SCHEDULED_ARRIVAL            0\n",
       "ARRIVAL_TIME                 0\n",
       "ARRIVAL_DELAY                0\n",
       "DIVERTED                     0\n",
       "CANCELLED                    0\n",
       "CANCELLATION_REASON    5231130\n",
       "AIR_SYSTEM_DELAY       4227770\n",
       "SECURITY_DELAY         4227770\n",
       "AIRLINE_DELAY          4227770\n",
       "LATE_AIRCRAFT_DELAY    4227770\n",
       "WEATHER_DELAY          4227770\n",
       "AIRPORT_x                    0\n",
       "AIRPORT_y                    0\n",
       "AIRLINE_y                    0\n",
       "dtype: int64"
      ]
     },
     "execution_count": 10,
     "metadata": {},
     "output_type": "execute_result"
    }
   ],
   "source": [
    "flights_real.isna().sum()"
   ]
  },
  {
   "cell_type": "markdown",
   "id": "8dd5ca52",
   "metadata": {},
   "source": [
    "# \tНайти аэропорт с минимальной задержкой вылета"
   ]
  },
  {
   "cell_type": "code",
   "execution_count": 11,
   "id": "01310028",
   "metadata": {},
   "outputs": [
    {
     "data": {
      "text/html": [
       "<div>\n",
       "<style scoped>\n",
       "    .dataframe tbody tr th:only-of-type {\n",
       "        vertical-align: middle;\n",
       "    }\n",
       "\n",
       "    .dataframe tbody tr th {\n",
       "        vertical-align: top;\n",
       "    }\n",
       "\n",
       "    .dataframe thead th {\n",
       "        text-align: right;\n",
       "    }\n",
       "</style>\n",
       "<table border=\"1\" class=\"dataframe\">\n",
       "  <thead>\n",
       "    <tr style=\"text-align: right;\">\n",
       "      <th></th>\n",
       "      <th>ORIGIN_AIRPORT</th>\n",
       "      <th>AIRPORT_x</th>\n",
       "      <th>DEPARTURE_DELAY</th>\n",
       "    </tr>\n",
       "  </thead>\n",
       "  <tbody>\n",
       "    <tr>\n",
       "      <th>0</th>\n",
       "      <td>PLN</td>\n",
       "      <td>Pellston Regional Airport of Emmet County</td>\n",
       "      <td>0.0</td>\n",
       "    </tr>\n",
       "    <tr>\n",
       "      <th>1</th>\n",
       "      <td>BJI</td>\n",
       "      <td>Bemidji Regional Airport</td>\n",
       "      <td>0.0</td>\n",
       "    </tr>\n",
       "    <tr>\n",
       "      <th>2</th>\n",
       "      <td>ESC</td>\n",
       "      <td>Delta County Airport</td>\n",
       "      <td>0.0</td>\n",
       "    </tr>\n",
       "    <tr>\n",
       "      <th>3</th>\n",
       "      <td>CIU</td>\n",
       "      <td>Chippewa County International Airport</td>\n",
       "      <td>0.0</td>\n",
       "    </tr>\n",
       "    <tr>\n",
       "      <th>4</th>\n",
       "      <td>ABR</td>\n",
       "      <td>Aberdeen Regional Airport</td>\n",
       "      <td>0.0</td>\n",
       "    </tr>\n",
       "    <tr>\n",
       "      <th>5</th>\n",
       "      <td>WYS</td>\n",
       "      <td>Westerly State Airport</td>\n",
       "      <td>0.0</td>\n",
       "    </tr>\n",
       "    <tr>\n",
       "      <th>6</th>\n",
       "      <td>LWS</td>\n",
       "      <td>Lewiston-Nez Perce County Airport</td>\n",
       "      <td>3.0</td>\n",
       "    </tr>\n",
       "    <tr>\n",
       "      <th>7</th>\n",
       "      <td>BRD</td>\n",
       "      <td>Brainerd Lakes Regional Airport</td>\n",
       "      <td>3.0</td>\n",
       "    </tr>\n",
       "    <tr>\n",
       "      <th>8</th>\n",
       "      <td>HLN</td>\n",
       "      <td>Helena Regional Airport</td>\n",
       "      <td>3.0</td>\n",
       "    </tr>\n",
       "    <tr>\n",
       "      <th>9</th>\n",
       "      <td>BLI</td>\n",
       "      <td>Bellingham International Airport</td>\n",
       "      <td>5.0</td>\n",
       "    </tr>\n",
       "  </tbody>\n",
       "</table>\n",
       "</div>"
      ],
      "text/plain": [
       "  ORIGIN_AIRPORT                                  AIRPORT_x  DEPARTURE_DELAY\n",
       "0            PLN  Pellston Regional Airport of Emmet County              0.0\n",
       "1            BJI                   Bemidji Regional Airport              0.0\n",
       "2            ESC                       Delta County Airport              0.0\n",
       "3            CIU      Chippewa County International Airport              0.0\n",
       "4            ABR                  Aberdeen Regional Airport              0.0\n",
       "5            WYS                     Westerly State Airport              0.0\n",
       "6            LWS          Lewiston-Nez Perce County Airport              3.0\n",
       "7            BRD            Brainerd Lakes Regional Airport              3.0\n",
       "8            HLN                    Helena Regional Airport              3.0\n",
       "9            BLI           Bellingham International Airport              5.0"
      ]
     },
     "execution_count": 11,
     "metadata": {},
     "output_type": "execute_result"
    }
   ],
   "source": [
    "flights_dep_delay=flights_real.query(\"DEPARTURE_DELAY>=0\").groupby(['ORIGIN_AIRPORT','AIRPORT_x' ])['DEPARTURE_DELAY'].median().sort_values().reset_index()\n",
    "flights_dep_delay.head(10)"
   ]
  },
  {
   "cell_type": "code",
   "execution_count": 12,
   "id": "4a145c20",
   "metadata": {},
   "outputs": [
    {
     "data": {
      "text/plain": [
       "<AxesSubplot:>"
      ]
     },
     "execution_count": 12,
     "metadata": {},
     "output_type": "execute_result"
    },
    {
     "data": {
      "image/png": "[encoded data removed]",
      "text/plain": [
       "<Figure size 1008x1008 with 1 Axes>"
      ]
     },
     "metadata": {
      "needs_background": "light"
     },
     "output_type": "display_data"
    }
   ],
   "source": [
    "flights_real.query(\"DEPARTURE_DELAY>=0\").boxplot('DEPARTURE_DELAY',figsize = (14, 14))"
   ]
  },
  {
   "cell_type": "markdown",
   "id": "52c53e46",
   "metadata": {},
   "source": [
    "Использована медиана, а не среднее, так как большое количество выбросов по полю DEPARTURE_DELAY."
   ]
  },
  {
   "cell_type": "markdown",
   "id": "8a90316c",
   "metadata": {},
   "source": [
    "#  Самая пунктуальная авиакомпания на прилет в Los Angeles International Airport "
   ]
  },
  {
   "cell_type": "code",
   "execution_count": 13,
   "id": "e7c77182",
   "metadata": {
    "scrolled": true
   },
   "outputs": [
    {
     "data": {
      "text/html": [
       "<div>\n",
       "<style scoped>\n",
       "    .dataframe tbody tr th:only-of-type {\n",
       "        vertical-align: middle;\n",
       "    }\n",
       "\n",
       "    .dataframe tbody tr th {\n",
       "        vertical-align: top;\n",
       "    }\n",
       "\n",
       "    .dataframe thead th {\n",
       "        text-align: right;\n",
       "    }\n",
       "</style>\n",
       "<table border=\"1\" class=\"dataframe\">\n",
       "  <thead>\n",
       "    <tr style=\"text-align: right;\">\n",
       "      <th></th>\n",
       "      <th>AIRLINE_x</th>\n",
       "      <th>AIRLINE_y</th>\n",
       "      <th>ARRIVAL_DELAY</th>\n",
       "    </tr>\n",
       "  </thead>\n",
       "  <tbody>\n",
       "    <tr>\n",
       "      <th>0</th>\n",
       "      <td>AS</td>\n",
       "      <td>Alaska Airlines Inc.</td>\n",
       "      <td>10.0</td>\n",
       "    </tr>\n",
       "  </tbody>\n",
       "</table>\n",
       "</div>"
      ],
      "text/plain": [
       "  AIRLINE_x             AIRLINE_y  ARRIVAL_DELAY\n",
       "0        AS  Alaska Airlines Inc.           10.0"
      ]
     },
     "execution_count": 13,
     "metadata": {},
     "output_type": "execute_result"
    }
   ],
   "source": [
    "flights_ariv_delay=flights_real.query(\"ARRIVAL_DELAY>=0 & DESTINATION_AIRPORT=='LAX'\").groupby(['AIRLINE_x','AIRLINE_y' ])['ARRIVAL_DELAY'].median().sort_values().reset_index()\n",
    "flights_ariv_delay.head(1)"
   ]
  },
  {
   "cell_type": "code",
   "execution_count": 14,
   "id": "aaa21d25",
   "metadata": {},
   "outputs": [
    {
     "data": {
      "text/plain": [
       "<AxesSubplot:>"
      ]
     },
     "execution_count": 14,
     "metadata": {},
     "output_type": "execute_result"
    },
    {
     "data": {
      "image/png": "[encoded data removed]",
      "text/plain": [
       "<Figure size 1008x1008 with 1 Axes>"
      ]
     },
     "metadata": {
      "needs_background": "light"
     },
     "output_type": "display_data"
    }
   ],
   "source": [
    "flights_real.query(\"ARRIVAL_DELAY>=0 & DESTINATION_AIRPORT=='LAX'\").boxplot('ARRIVAL_DELAY',figsize = (14, 14))"
   ]
  },
  {
   "cell_type": "markdown",
   "id": "9a177ebc",
   "metadata": {},
   "source": [
    "Использована медиана, а не среднее, так как большое количество выбросов по полю ARRIVAL_DELAY."
   ]
  },
  {
   "cell_type": "markdown",
   "id": "a1737b3a",
   "metadata": {},
   "source": [
    "# Аэропорт с самой большой долей руления на 1 самолетовылет"
   ]
  },
  {
   "cell_type": "code",
   "execution_count": 15,
   "id": "c14e6ac5",
   "metadata": {
    "scrolled": false
   },
   "outputs": [
    {
     "data": {
      "text/html": [
       "<div>\n",
       "<style scoped>\n",
       "    .dataframe tbody tr th:only-of-type {\n",
       "        vertical-align: middle;\n",
       "    }\n",
       "\n",
       "    .dataframe tbody tr th {\n",
       "        vertical-align: top;\n",
       "    }\n",
       "\n",
       "    .dataframe thead th {\n",
       "        text-align: right;\n",
       "    }\n",
       "</style>\n",
       "<table border=\"1\" class=\"dataframe\">\n",
       "  <thead>\n",
       "    <tr style=\"text-align: right;\">\n",
       "      <th></th>\n",
       "      <th>ORIGIN_AIRPORT</th>\n",
       "      <th>AIRPORT_x</th>\n",
       "      <th>0</th>\n",
       "    </tr>\n",
       "  </thead>\n",
       "  <tbody>\n",
       "    <tr>\n",
       "      <th>0</th>\n",
       "      <td>JFK</td>\n",
       "      <td>John F. Kennedy International Airport (New Yor...</td>\n",
       "      <td>26.995582</td>\n",
       "    </tr>\n",
       "  </tbody>\n",
       "</table>\n",
       "</div>"
      ],
      "text/plain": [
       "  ORIGIN_AIRPORT                                          AIRPORT_x          0\n",
       "0            JFK  John F. Kennedy International Airport (New Yor...  26.995582"
      ]
     },
     "execution_count": 15,
     "metadata": {},
     "output_type": "execute_result"
    }
   ],
   "source": [
    "flights_TAXI_OUT= (flights_real.groupby(['ORIGIN_AIRPORT','AIRPORT_x']).TAXI_OUT.sum()/flights_real.groupby(['ORIGIN_AIRPORT','AIRPORT_x']).YEAR.count()).sort_values(ascending=False).reset_index()\n",
    "flights_TAXI_OUT.head(1)"
   ]
  }
 ],
 "metadata": {
  "kernelspec": {
   "display_name": "Python 3",
   "language": "python",
   "name": "python3"
  },
  "language_info": {
   "codemirror_mode": {
    "name": "ipython",
    "version": 3
   },
   "file_extension": ".py",
   "mimetype": "text/x-python",
   "name": "python",
   "nbconvert_exporter": "python",
   "pygments_lexer": "ipython3",
   "version": "3.8.8"
  },
  "toc": {
   "base_numbering": 1,
   "nav_menu": {},
   "number_sections": true,
   "sideBar": true,
   "skip_h1_title": false,
   "title_cell": "Table of Contents",
   "title_sidebar": "Contents",
   "toc_cell": true,
   "toc_position": {},
   "toc_section_display": true,
   "toc_window_display": true
  }
 },
 "nbformat": 4,
 "nbformat_minor": 5
}
