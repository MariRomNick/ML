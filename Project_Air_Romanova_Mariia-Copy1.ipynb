{
 "cells": [
  {
   "cell_type": "markdown",
   "id": "b701e857",
   "metadata": {
    "toc": true
   },
   "source": [
    "<h1>Table of Contents<span class=\"tocSkip\"></span></h1>\n",
    "<div class=\"toc\"><ul class=\"toc-item\"><li><span><a href=\"#Найти-аэропорт-с-минимальной-задержкой-вылета\" data-toc-modified-id=\"Найти-аэропорт-с-минимальной-задержкой-вылета-1\"><span class=\"toc-item-num\">1&nbsp;&nbsp;</span>Найти аэропорт с минимальной задержкой вылета</a></span></li><li><span><a href=\"#Самая-пунктуальная-авиакомпания-на-прилет-в-Los-Angeles-International-Airport\" data-toc-modified-id=\"Самая-пунктуальная-авиакомпания-на-прилет-в-Los-Angeles-International-Airport-2\"><span class=\"toc-item-num\">2&nbsp;&nbsp;</span>Самая пунктуальная авиакомпания на прилет в Los Angeles International Airport</a></span></li><li><span><a href=\"#Аэропорт-с-самой-большой-долей-руления-на-1-самолетовылет\" data-toc-modified-id=\"Аэропорт-с-самой-большой-долей-руления-на-1-самолетовылет-3\"><span class=\"toc-item-num\">3&nbsp;&nbsp;</span>Аэропорт с самой большой долей руления на 1 самолетовылет</a></span></li><li><span><a href=\"#Построить-модель-которая-будет-выбирать-топ-3-аэропорта-прилета-(вероятность-опоздания-минимальная-–-RMSE-метрика),-в-зависимости-от-аэропорта-вылета\" data-toc-modified-id=\"Построить-модель-которая-будет-выбирать-топ-3-аэропорта-прилета-(вероятность-опоздания-минимальная-–-RMSE-метрика),-в-зависимости-от-аэропорта-вылета-4\"><span class=\"toc-item-num\">4&nbsp;&nbsp;</span>Построить модель которая будет выбирать топ 3 аэропорта прилета (вероятность опоздания минимальная – RMSE метрика), в зависимости от аэропорта вылета</a></span><ul class=\"toc-item\"><li><span><a href=\"#Подготовка-данных\" data-toc-modified-id=\"Подготовка-данных-4.1\"><span class=\"toc-item-num\">4.1&nbsp;&nbsp;</span>Подготовка данных</a></span></li><li><span><a href=\"#Выбор-параметров-и-получение-результата\" data-toc-modified-id=\"Выбор-параметров-и-получение-результата-4.2\"><span class=\"toc-item-num\">4.2&nbsp;&nbsp;</span>Выбор параметров и получение результата</a></span></li></ul></li></ul></div>"
   ]
  },
  {
   "cell_type": "markdown",
   "id": "cfe70061",
   "metadata": {},
   "source": [
    "[Данные - https://www.kaggle.com/usdot/flight-delays  ](https://www.kaggle.com/usdot/flight-delays) \n",
    "\n",
    "Описание - Сводная информация о количестве своевременных, задержанных, отмененных и измененных рейсов в США за 2015 год (5.8 млн записей)\n",
    "Задачи:\n",
    "1\tНайти аэропорт с минимальной задержкой вылета \n",
    "2\tСамая пунктуальная авиакомпания на прилет в Los Angeles International Airport\n",
    "3\tАэропорт с самой большой долей руления на 1 самолетовылет\n",
    "4\tПостроить модель которая будет выбирать топ 3 аэропорта прилета (вероятность опоздания минимальная – RMSE метрика),  в зависимости от аэропорта вылета  "
   ]
  },
  {
   "cell_type": "code",
   "execution_count": 1,
   "id": "78ae426c",
   "metadata": {},
   "outputs": [],
   "source": [
    "import pandas as pd\n",
    "import datetime as dt\n",
    "import numpy as np\n",
    "import random\n",
    "from sklearn.model_selection import train_test_split\n",
    "from sklearn.metrics import mean_squared_error\n",
    "from math import sqrt\n",
    "import matplotlib.pyplot as plt\n",
    "from sklearn.linear_model import LinearRegression"
   ]
  },
  {
   "cell_type": "code",
   "execution_count": null,
   "id": "21086a8d",
   "metadata": {},
   "outputs": [],
   "source": [
    "%%time\n",
    "airlines= pd.read_csv('data/airlines.csv')\n",
    "airports= pd.read_csv('data/airports.csv')\n",
    "flights= pd.read_csv('data/flights.csv',dtype={'ORIGIN_AIRPORT':str,'DESTINATION_AIRPORT':str})"
   ]
  },
  {
   "cell_type": "code",
   "execution_count": null,
   "id": "787b776a",
   "metadata": {},
   "outputs": [],
   "source": [
    "%%time\n",
    "flights1=flights.merge(airports[['IATA_CODE','AIRPORT']], how='inner', left_on='ORIGIN_AIRPORT', right_on='IATA_CODE').drop (['IATA_CODE'], axis = 1)"
   ]
  },
  {
   "cell_type": "code",
   "execution_count": null,
   "id": "e47fe2d4",
   "metadata": {},
   "outputs": [],
   "source": [
    "%%time\n",
    "flights1=flights1.merge(airports[['IATA_CODE','AIRPORT']], how='inner', left_on='DESTINATION_AIRPORT', right_on='IATA_CODE').drop (['IATA_CODE',], axis = 1)"
   ]
  },
  {
   "cell_type": "code",
   "execution_count": null,
   "id": "00844f45",
   "metadata": {},
   "outputs": [],
   "source": [
    "%%time\n",
    "flights1=flights1.merge(airlines, how='inner', left_on='AIRLINE', right_on='IATA_CODE').drop (['IATA_CODE'], axis = 1)"
   ]
  },
  {
   "cell_type": "code",
   "execution_count": null,
   "id": "77dd5c87",
   "metadata": {},
   "outputs": [],
   "source": [
    "%%time\n",
    "flights_real= flights1[~flights1.DIVERTED.isin([1])& ~flights1.CANCELLED.isin([1])].copy()"
   ]
  },
  {
   "cell_type": "code",
   "execution_count": null,
   "id": "8632db0c",
   "metadata": {
    "scrolled": false
   },
   "outputs": [],
   "source": [
    "flights_real.info()"
   ]
  },
  {
   "cell_type": "code",
   "execution_count": null,
   "id": "8523fae2",
   "metadata": {
    "scrolled": true
   },
   "outputs": [],
   "source": [
    "#flights_real.nunique()"
   ]
  },
  {
   "cell_type": "markdown",
   "id": "8dd5ca52",
   "metadata": {},
   "source": [
    "# \tНайти аэропорт с минимальной задержкой вылета"
   ]
  },
  {
   "cell_type": "code",
   "execution_count": null,
   "id": "01310028",
   "metadata": {},
   "outputs": [],
   "source": [
    "flights_dep_delay=flights_real.query(\"DEPARTURE_DELAY>=0\").groupby(['ORIGIN_AIRPORT','AIRPORT_x' ])['DEPARTURE_DELAY'].median().sort_values().reset_index()\n",
    "flights_dep_delay.head(10)"
   ]
  },
  {
   "cell_type": "code",
   "execution_count": null,
   "id": "4a145c20",
   "metadata": {},
   "outputs": [],
   "source": [
    "flights_real.query(\"DEPARTURE_DELAY>=0\").boxplot('DEPARTURE_DELAY',figsize = (14, 14))"
   ]
  },
  {
   "cell_type": "markdown",
   "id": "52c53e46",
   "metadata": {},
   "source": [
    "Использована медиана, а не среднее, так как большое количество выбросов по полю DEPARTURE_DELAY."
   ]
  },
  {
   "cell_type": "markdown",
   "id": "8a90316c",
   "metadata": {},
   "source": [
    "#  Самая пунктуальная авиакомпания на прилет в Los Angeles International Airport "
   ]
  },
  {
   "cell_type": "code",
   "execution_count": null,
   "id": "e7c77182",
   "metadata": {
    "scrolled": true
   },
   "outputs": [],
   "source": [
    "flights_ariv_delay=flights_real.query(\"ARRIVAL_DELAY>=0 & DESTINATION_AIRPORT=='LAX'\").groupby(['AIRLINE_x','AIRLINE_y' ])['ARRIVAL_DELAY'].median().sort_values().reset_index()\n",
    "flights_ariv_delay.head(1)"
   ]
  },
  {
   "cell_type": "code",
   "execution_count": null,
   "id": "aaa21d25",
   "metadata": {},
   "outputs": [],
   "source": [
    "flights_real.query(\"ARRIVAL_DELAY>=0 & DESTINATION_AIRPORT=='LAX'\").boxplot('ARRIVAL_DELAY',figsize = (14, 14))"
   ]
  },
  {
   "cell_type": "markdown",
   "id": "9a177ebc",
   "metadata": {},
   "source": [
    "Использована медиана, а не среднее, так как большое количество выбросов по полю ARRIVAL_DELAY."
   ]
  },
  {
   "cell_type": "markdown",
   "id": "a1737b3a",
   "metadata": {},
   "source": [
    "# Аэропорт с самой большой долей руления на 1 самолетовылет"
   ]
  },
  {
   "cell_type": "code",
   "execution_count": null,
   "id": "c14e6ac5",
   "metadata": {
    "scrolled": false
   },
   "outputs": [],
   "source": [
    "flights_TAXI_OUT= (flights_real.groupby(['ORIGIN_AIRPORT','AIRPORT_x']).TAXI_OUT.sum()/flights_real.groupby(['ORIGIN_AIRPORT','AIRPORT_x']).YEAR.count()).sort_values(ascending=False).reset_index()\n",
    "flights_TAXI_OUT.head(1)"
   ]
  },
  {
   "cell_type": "markdown",
   "id": "ee94ed12",
   "metadata": {},
   "source": [
    "# Построить модель которая будет выбирать топ 3 аэропорта прилета (вероятность опоздания минимальная – RMSE метрика), в зависимости от аэропорта вылета"
   ]
  },
  {
   "cell_type": "markdown",
   "id": "2c3146a9",
   "metadata": {},
   "source": [
    "## Подготовка данных "
   ]
  },
  {
   "cell_type": "code",
   "execution_count": null,
   "id": "a3ce536a",
   "metadata": {},
   "outputs": [],
   "source": [
    "def make_date(df):\n",
    " return dt.date(df.YEAR,df.MONTH,df.DAY)"
   ]
  },
  {
   "cell_type": "code",
   "execution_count": null,
   "id": "3f269fd6",
   "metadata": {},
   "outputs": [],
   "source": [
    "%%time\n",
    "flights_real['dDate']=flights_real.apply(make_date, axis=1)"
   ]
  },
  {
   "cell_type": "code",
   "execution_count": null,
   "id": "fda40d94",
   "metadata": {},
   "outputs": [],
   "source": [
    "%%time\n",
    "flight_grouped = flights_real.groupby(['dDate','DESTINATION_AIRPORT'])['ARRIVAL_DELAY'].sum().reset_index()\n",
    "flight_grouped['dDate'] = pd.to_datetime(flight_grouped['dDate'])"
   ]
  },
  {
   "cell_type": "code",
   "execution_count": null,
   "id": "90ccd070",
   "metadata": {},
   "outputs": [],
   "source": [
    "def make_features(data, max_lag, rolling_mean_size):\n",
    "    data['YEAR'] =data.dDate.dt.year\n",
    "    data['MONTH'] =data.dDate.dt.month\n",
    "    data['DAY'] =data.dDate.dt.day\n",
    "    data['DAYOFWEEK'] =data.dDate.dt.dayofweek\n",
    "    data['is_weekend'] = data.DAYOFWEEK.isin([5,6])*1\n",
    "    for lag in range (1, max_lag+1):\n",
    "        data['ARRIVAL_DELAY_{}'.format(lag)] = data['ARRIVAL_DELAY'].shift(lag)     "
   ]
  },
  {
   "cell_type": "code",
   "execution_count": null,
   "id": "bf695133",
   "metadata": {},
   "outputs": [],
   "source": [
    "%%time\n",
    "where_to_go = []\n",
    "for dest in flight_grouped[flight_grouped.ARRIVAL_DELAY>=0].DESTINATION_AIRPORT.unique():\n",
    "    tempo = flight_grouped[(flight_grouped.DESTINATION_AIRPORT==dest)&(flight_grouped.ARRIVAL_DELAY>=0)][['dDate','ARRIVAL_DELAY']]\n",
    "    tempo.columns = ['dDate','ARRIVAL_DELAY']\n",
    "    tempo = pd.DataFrame(tempo)\n",
    "    \n",
    "    try:\n",
    "    \n",
    "        make_features(tempo,5,2)\n",
    "        tempo.dropna(inplace=True)\n",
    "        tempo.set_index('dDate',inplace=True)\n",
    "           \n",
    "        X_train,X_test,y_train, y_test = train_test_split(tempo.drop('ARRIVAL_DELAY', axis=1),tempo.ARRIVAL_DELAY, shuffle=False, test_size=0.1)\n",
    "\n",
    "        model_lr = LinearRegression()\n",
    "        model_lr.fit(X_train,y_train)\n",
    "\n",
    "        y_predicted_lr = model_lr.predict(X_test)\n",
    "\n",
    "        where_to_go.append([dest,y_test.mean(),np.sqrt(mean_squared_error(y_test, y_predicted_lr))])\n",
    "\n",
    "    except Exception as e:\n",
    "        print('Error', str(e))"
   ]
  },
  {
   "cell_type": "code",
   "execution_count": null,
   "id": "46b79634",
   "metadata": {},
   "outputs": [],
   "source": [
    "%%time\n",
    "where_to_go = pd.DataFrame(where_to_go)\n",
    "where_to_go.columns = ['DESTINATION_AIRPORT','MEAN_ARRIVAL_DELAY_IN_PAST','RMSE']"
   ]
  },
  {
   "cell_type": "code",
   "execution_count": null,
   "id": "318f0ea5",
   "metadata": {},
   "outputs": [],
   "source": [
    "where_to_go.head()"
   ]
  },
  {
   "cell_type": "markdown",
   "id": "7f0bdc8d",
   "metadata": {},
   "source": [
    "## Выбор параметров и получение результата"
   ]
  },
  {
   "cell_type": "code",
   "execution_count": null,
   "id": "83de5c6c",
   "metadata": {},
   "outputs": [],
   "source": [
    "%%time\n",
    "start_airport = np.random.choice(flights['ORIGIN_AIRPORT'].unique()) \n",
    "where_to_go_from_start_airport = flights[flights.ORIGIN_AIRPORT==start_airport]['DESTINATION_AIRPORT'].unique()\n",
    "\n",
    "where_to_go_from_start_airport = pd.DataFrame(where_to_go_from_start_airport)\n",
    "where_to_go_from_start_airport.columns = ['DESTINATION_AIRPORT']\n",
    "\n",
    "top3 = where_to_go_from_start_airport\\\n",
    "    .merge(where_to_go,on='DESTINATION_AIRPORT',how='inner')\\\n",
    "    .sort_values(by=['RMSE','MEAN_ARRIVAL_DELAY_IN_PAST'],ascending=[True, True])\\\n",
    "    .head(3)\n",
    "\n",
    "print('Лучшие направления с аэропорта',start_airport)\n",
    "print('')\n",
    "print(top3)"
   ]
  }
 ],
 "metadata": {
  "kernelspec": {
   "display_name": "Python 3",
   "language": "python",
   "name": "python3"
  },
  "language_info": {
   "codemirror_mode": {
    "name": "ipython",
    "version": 3
   },
   "file_extension": ".py",
   "mimetype": "text/x-python",
   "name": "python",
   "nbconvert_exporter": "python",
   "pygments_lexer": "ipython3",
   "version": "3.8.8"
  },
  "toc": {
   "base_numbering": 1,
   "nav_menu": {},
   "number_sections": true,
   "sideBar": true,
   "skip_h1_title": false,
   "title_cell": "Table of Contents",
   "title_sidebar": "Contents",
   "toc_cell": true,
   "toc_position": {},
   "toc_section_display": true,
   "toc_window_display": true
  }
 },
 "nbformat": 4,
 "nbformat_minor": 5
}
